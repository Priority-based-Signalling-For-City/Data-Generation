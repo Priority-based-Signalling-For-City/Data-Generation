{
 "cells": [
  {
   "cell_type": "code",
   "execution_count": null,
   "metadata": {
    "vscode": {
     "languageId": "plaintext"
    }
   },
   "outputs": [],
   "source": [
    "import pulp\n",
    "import json\n",
    "\n",
    "# ----- Sets -----\n",
    "routes = [\"r1\", \"r2\", \"r3\"]  # Bus routes\n",
    "passengers = [\"p1\", \"p2\", \"p3\"]  # Passengers\n",
    "bus_stops = [\"b1\", \"b2\", \"b3\", \"b4\"]  # Bus stops\n",
    "capacity = {\"r1\": 10, \"r2\": 15, \"r3\": 12}  # Bus capacities\n",
    "\n",
    "# Feasible routes for each passenger\n",
    "feasible_routes = {\n",
    "    \"p1\": [\"r1\", \"r2\"],\n",
    "    \"p2\": [\"r2\"],\n",
    "    \"p3\": [\"r1\", \"r3\"]\n",
    "}\n",
    "\n",
    "# Decision Variables\n",
    "x = pulp.LpVariable.dicts(\"PassengerRoute\", [(i, j) for i in passengers for j in routes], cat=\"Binary\")\n",
    "S = pulp.LpVariable.dicts(\"StopAssignment\", [(i, j, k) for i in passengers for j in routes for k in bus_stops], cat=\"Binary\")\n",
    "\n"
   ]
  },
  {
   "cell_type": "code",
   "execution_count": null,
   "metadata": {
    "vscode": {
     "languageId": "plaintext"
    }
   },
   "outputs": [],
   "source": [
    "# Optimization Problem\n",
    "prob = pulp.LpProblem(\"MaximizePassengers\", pulp.LpMaximize)\n",
    "\n",
    "# Objective: Maximize number of assigned passengers\n",
    "prob += pulp.lpSum(x[i, j] for i in passengers for j in routes)\n",
    "\n",
    "# Constraints\n",
    "for i in passengers:\n",
    "    prob += pulp.lpSum(x[i, j] for j in feasible_routes[i]) <= 1  # Each passenger chooses max 1 route\n",
    "\n",
    "for j in routes:\n",
    "    for k in bus_stops:\n",
    "        prob += pulp.lpSum(x[i, j] * S[i, j, k] for i in passengers) <= capacity[j]  # Capacity constraint\n",
    "\n",
    "# Solve Optimization\n",
    "prob.solve()\n",
    "\n",
    "# Store Results\n",
    "assignment_results = {\"assignments\": []}\n",
    "for i in passengers:\n",
    "    for j in routes:\n",
    "        if x[i, j].varValue == 1:  # If passenger assigned to route j\n",
    "            assigned_stops = [k for k in bus_stops if S[i, j, k].varValue == 1]\n",
    "            assignment_results[\"assignments\"].append({\"passenger\": i, \"route\": j, \"stops\": assigned_stops})\n",
    "\n",
    "# Save results to JSON file\n",
    "with open(\"optimized_routes.json\", \"w\") as file:\n",
    "    json.dump(assignment_results, file, indent=4)\n",
    "\n",
    "print(\"Optimization complete. Results saved to optimized_routes.json\")"
   ]
  }
 ],
 "metadata": {
  "language_info": {
   "name": "python"
  }
 },
 "nbformat": 4,
 "nbformat_minor": 2
}
