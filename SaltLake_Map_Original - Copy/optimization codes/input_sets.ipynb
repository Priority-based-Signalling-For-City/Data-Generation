{
 "cells": [
  {
   "cell_type": "code",
   "execution_count": 3,
   "id": "c43ecc01",
   "metadata": {},
   "outputs": [
    {
     "name": "stdout",
     "output_type": "stream",
     "text": [
      "Route capacities saved to route_capacities.json\n"
     ]
    }
   ],
   "source": [
    "# generate_route_capacities.py\n",
    "import json\n",
    "import random\n",
    "\n",
    "with open(\"Routes.json\") as f:\n",
    "    route_dict = json.load(f)\n",
    "\n",
    "route_ids = list(route_dict.keys())\n",
    "\n",
    "# Random float capacity for each route\n",
    "capacity = {rid: random.randint(5, 8) for rid in route_ids}\n",
    "\n",
    "with open(\"route_capacities.json\", \"w\") as f:\n",
    "    json.dump(capacity, f, indent=4)\n",
    "\n",
    "print(\"Route capacities saved to route_capacities.json\")"
   ]
  },
  {
   "cell_type": "code",
   "execution_count": null,
   "id": "878294dc",
   "metadata": {},
   "outputs": [
    {
     "name": "stdout",
     "output_type": "stream",
     "text": [
      "Generated 500 passengers in passengers.json\n"
     ]
    }
   ],
   "source": [
    "import json\n",
    "import random\n",
    "\n",
    "# Load routes\n",
    "with open(\"Routes.json\", \"r\") as f:\n",
    "    route_dict = json.load(f)\n",
    "\n",
    "routes = list(route_dict.values())\n",
    "\n",
    "def generate_passenger(pid):\n",
    "    while True:\n",
    "        route = random.choice(routes)\n",
    "        if len(route) >= 5:\n",
    "            start_index = random.randint(0, len(route) - 4)\n",
    "            src_stops = route[start_index:start_index + 3]\n",
    "            dest_options = route[start_index + 3:]\n",
    "            if dest_options:\n",
    "                dest = random.choice(dest_options)\n",
    "                break\n",
    "    return {\n",
    "        \"source\": src_stops,\n",
    "        \"destination\": dest,\n",
    "    }\n",
    "total_passengers = 500 \n",
    "# Generate passengers\n",
    "passengers = {f\"P{i}\": generate_passenger(i) for i in range(total_passengers)}\n",
    "\n",
    "# Save to JSON\n",
    "with open(\"passengers.json\", \"w\") as f:\n",
    "    json.dump(passengers, f, indent=4)\n",
    "\n",
    "print(f\"Generated {total_passengers} passengers in passengers.json\")\n",
    "\n"
   ]
  },
  {
   "cell_type": "code",
   "execution_count": 2,
   "id": "234c1fdc",
   "metadata": {},
   "outputs": [
    {
     "name": "stdout",
     "output_type": "stream",
     "text": [
      "Feasible passenger routes based on all (source, destination) pairs saved to passenger_routes.json\n"
     ]
    }
   ],
   "source": [
    "with open(\"passengers.json\", \"r\") as f:\n",
    "    passengers = json.load(f)\n",
    "\n",
    "Rp = {}\n",
    "\n",
    "for pid, data in passengers.items():\n",
    "    sources = data[\"source\"]\n",
    "    destination = data[\"destination\"]\n",
    "\n",
    "    valid_routes = set()\n",
    "\n",
    "    for src in sources:\n",
    "        for idx, route in enumerate(routes):\n",
    "            if src in route and destination in route:\n",
    "                if route.index(src) < route.index(destination):\n",
    "                    valid_routes.add(idx)\n",
    "\n",
    "    Rp[pid] = sorted(list(valid_routes))\n",
    "\n",
    "with open(\"passenger_routes.json\", \"w\") as f:\n",
    "    json.dump(Rp, f, indent=4)\n",
    "\n",
    "print(\"Feasible passenger routes based on all (source, destination) pairs saved to passenger_routes.json\")"
   ]
  },
  {
   "cell_type": "code",
   "execution_count": null,
   "id": "d604fffa",
   "metadata": {},
   "outputs": [],
   "source": [
    "unique_bus_stops = set()\n",
    "for route in routes:\n",
    "    unique_bus_stops.update(route)\n",
    "\n",
    "unique_bus_stops_list = sorted(unique_bus_stops)\n",
    "\n",
    "print(\"Total Unique Bus Stops:\", len(unique_bus_stops_list))\n",
    "print(unique_bus_stops_list)\n",
    "\n",
    "with open(\"bus_stops.json\", \"w\") as f:\n",
    "    json.dump(unique_bus_stops_list, f, indent=2)"
   ]
  },
  {
   "cell_type": "code",
   "execution_count": null,
   "id": "8733067b",
   "metadata": {},
   "outputs": [],
   "source": [
    "import random\n",
    "import json\n",
    "\n",
    "with open(\"Routes.json\", \"r\") as f:\n",
    "    route_dict = json.load(f)\n",
    "\n",
    "routes = list(route_dict.values())\n",
    "\n",
    "P = {}\n",
    "total_passengers = 500 \n",
    "for i in range(total_passengers):\n",
    "    while True:\n",
    "        route = random.choice(routes)\n",
    "        if len(route) >= 5:\n",
    "            start_index = random.randint(0, len(route) - 4)  \n",
    "            src_stops = route[start_index:start_index + 3]\n",
    "            dest_options = route[start_index + 3:]\n",
    "            if dest_options:\n",
    "                dest = random.choice(dest_options)\n",
    "                count = random.randint(2, 5)  \n",
    "                P[f\"P{i}\"] = {\n",
    "                    \"source\": src_stops,\n",
    "                    \"destination\": dest,\n",
    "                    \"count\": count\n",
    "                }\n",
    "                break\n",
    "\n",
    "with open(\"passengers_group.json\", \"w\") as f:\n",
    "    json.dump(P, f, indent=4)\n",
    "\n",
    "print(f\"{total_passengers} passengers with group counts generated to passengers.json\")\n"
   ]
  },
  {
   "cell_type": "code",
   "execution_count": null,
   "id": "7c6622a9",
   "metadata": {},
   "outputs": [],
   "source": [
    "with open(\"passengers_group.json\", \"r\") as f:\n",
    "    passengers = json.load(f)\n",
    "\n",
    "Rp = {}\n",
    "\n",
    "for pid, data in passengers.items():\n",
    "    sources = data[\"source\"]\n",
    "    destination = data[\"destination\"]\n",
    "\n",
    "    valid_routes = set()\n",
    "\n",
    "    for src in sources:\n",
    "        for idx, route in enumerate(routes):\n",
    "            if src in route and destination in route:\n",
    "                if route.index(src) < route.index(destination):\n",
    "                    valid_routes.add(idx)\n",
    "\n",
    "    Rp[pid] = sorted(list(valid_routes))\n",
    "\n",
    "with open(\"passenger_routes_group.json\", \"w\") as f:\n",
    "    json.dump(Rp, f, indent=4)\n",
    "\n",
    "print(\"Feasible passenger routes based on all (source, destination) pairs saved to passenger_routes.json\")"
   ]
  }
 ],
 "metadata": {
  "kernelspec": {
   "display_name": "Python 3",
   "language": "python",
   "name": "python3"
  },
  "language_info": {
   "codemirror_mode": {
    "name": "ipython",
    "version": 3
   },
   "file_extension": ".py",
   "mimetype": "text/x-python",
   "name": "python",
   "nbconvert_exporter": "python",
   "pygments_lexer": "ipython3",
   "version": "3.12.4"
  }
 },
 "nbformat": 4,
 "nbformat_minor": 5
}
