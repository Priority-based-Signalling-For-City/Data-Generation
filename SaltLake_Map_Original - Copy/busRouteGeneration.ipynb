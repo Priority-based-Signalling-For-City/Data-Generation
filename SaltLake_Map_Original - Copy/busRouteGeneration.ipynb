{
 "cells": [
  {
   "cell_type": "code",
   "execution_count": 1,
   "metadata": {},
   "outputs": [
    {
     "name": "stdout",
     "output_type": "stream",
     "text": [
      "Total Bus Stops: 56\n",
      "Bus Stop Positions: {'-2207611901': (279.5, 4207.29), '11975930340': (5203.1, 2423.19), '11982377441': (5118.34, 2195.38), '11982377442': (5214.21, 2411.83), '1702530312': (5096.08, 3043.36), '2141425962': (32.8, 3453.91), '2141425973': (41.48, 3450.94), '2207611901': (270.69, 4160.27), '5189265436': (1086.0, 1924.34), '5189265479': (4104.74, 3040.27), '5777572361': (1088.33, 1929.23), '5777572412': (63.05, 2056.98), '5777572424': (4081.6, 3032.02), '664440061': (504.91, 5718.42), '7468327498': (2315.09, 4979.42), '7628479190': (4170.54, 3082.84), '7976140061': (1088.33, 1929.23), '7976140062': (4104.74, 3040.27), '7976140064': (1088.33, 1929.23), '7976140065': (2316.7, 3947.97), '7976140067': (1751.32, 3581.04), '7976140068': (1088.33, 1929.23), '7976140070': (1088.33, 1929.23), '7976140071': (1751.32, 3581.04), '7n_tnk_down': (3686.52, 4814.81), '7n_tnk_up': (3678.26, 4800.32), 'amri_hos': (2389.08, 1741.24), 'bm_down_1': (2078.05, 953.97), 'bm_up_1': (2047.62, 966.23), 'bs_0': (4662.01, 2394.15), 'bs_1': (4423.67, 1703.97), 'ch_down_1': (2474.71, 392.68), 'ch_up_1': (2322.85, 601.08), 'cit_m_down': (780.64, 1062.73), 'cit_m_up': (802.24, 1055.35), 'cm_up_1': (4660.2, 2422.57), 'gd_down': (2660.81, 2908.19), 'gd_up': (2510.65, 2309.32), 'gg_down': (1918.34, 5182.18), 'gg_up': (1201.2, 4730.0), 'inox_down': (1224.61, 1951.38), 'inox_up': (1329.75, 1941.52), 'jvk_1': (2333.72, 1583.88), 'kkg_down': (217.18, 2943.41), 'kkg_l': (62.37, 2981.59), 'kkg_r': (295.61, 2955.08), 'kkg_up': (207.33, 2989.55), 'kp_down': (3789.36, 5764.14), 'kp_up': (3277.93, 5512.89), 'lp_down_1': (3006.57, 1458.43), 'lp_up_1': (2832.91, 1141.3), 'lt_down': (1918.34, 5182.18), 'lt_up': (1749.76, 5099.45), 'nlbh_uo_1': (4249.53, 1799.59), 'no_up_1': (3370.11, 2197.58), 'np_down_1': (2832.91, 1141.3)}\n"
     ]
    }
   ],
   "source": [
    "import traci\n",
    "import sumolib\n",
    "\n",
    "SUMO_BINARY = \"sumo-gui\"  # Use \"sumo\" for non-GUI\n",
    "SUMO_CONFIG = \"busStop.sumocfg\"\n",
    "NET_FILE = \"osm.net.xml\"  # Replace with actual network file\n",
    "\n",
    "# Load SUMO network\n",
    "net = sumolib.net.readNet(NET_FILE)\n",
    "\n",
    "# Start SUMO\n",
    "traci.start([SUMO_BINARY, \"-c\", SUMO_CONFIG,\"--start\"])\n",
    "\n",
    "# Get all bus stops\n",
    "bus_stops = traci.busstop.getIDList()\n",
    "print(f\"Total Bus Stops: {len(bus_stops)}\")\n",
    "\n",
    "# Store bus stop positions\n",
    "bus_stop_positions = {\n",
    "    stop: traci.lane.getShape(traci.busstop.getLaneID(stop))[0] for stop in bus_stops\n",
    "}\n",
    "print(\"Bus Stop Positions:\", bus_stop_positions)\n",
    "\n"
   ]
  },
  {
   "cell_type": "code",
   "execution_count": 2,
   "metadata": {},
   "outputs": [
    {
     "name": "stdout",
     "output_type": "stream",
     "text": [
      "Generated 1250 valid routes.\n"
     ]
    }
   ],
   "source": [
    "import networkx as nx\n",
    "\n",
    "# Create a graph from the SUMO network\n",
    "G = nx.DiGraph()\n",
    "\n",
    "# Add edges based on the SUMO road network\n",
    "for edge in net.getEdges():\n",
    "    from_node = edge.getFromNode().getID()\n",
    "    to_node = edge.getToNode().getID()\n",
    "    length = edge.getLength()\n",
    "    G.add_edge(from_node, to_node, weight=length)\n",
    "\n",
    "# Generate routes using shortest paths between bus stops\n",
    "\n",
    "\n",
    "valid_routes = []\n",
    "for i, stop1 in enumerate(bus_stops):\n",
    "    for stop2 in bus_stops[i + 1 :]:  # Avoid duplicates\n",
    "        lane1 = traci.busstop.getLaneID(stop1)\n",
    "        lane2 = traci.busstop.getLaneID(stop2)\n",
    "\n",
    "        edge1 = net.getLane(lane1).getEdge()\n",
    "        edge2 = net.getLane(lane2).getEdge()\n",
    "        \n",
    "        try:\n",
    "            shortest_path = nx.shortest_path(G, edge1.getFromNode().getID(), edge2.getToNode().getID(), weight=\"weight\")\n",
    "            valid_routes.append((stop1, stop2, shortest_path))\n",
    "        except nx.NetworkXNoPath:\n",
    "            continue  # Skip if no path exists\n",
    "\n",
    "print(f\"Generated {len(valid_routes)} valid routes.\")\n",
    "traci.close()"
   ]
  },
  {
   "cell_type": "code",
   "execution_count": 3,
   "metadata": {},
   "outputs": [
    {
     "name": "stdout",
     "output_type": "stream",
     "text": [
      "Routes saved to valid_routes.rou.xml\n"
     ]
    }
   ],
   "source": [
    "import xml.etree.ElementTree as ET\n",
    "\n",
    "def write_routes_xml(routes, output_file=\"valid_routes.rou.xml\"):\n",
    "    root = ET.Element(\"routes\")\n",
    "\n",
    "    for i, (stop1, stop2, path) in enumerate(routes):\n",
    "        route_id = f\"route_{i}\"\n",
    "        edges = \" \".join(path)\n",
    "        \n",
    "        route = ET.SubElement(root, \"route\", id=route_id, edges=edges)\n",
    "        \n",
    "        # Add a bus vehicle type\n",
    "        vehicle = ET.SubElement(root, \"vehicle\", id=f\"bus_{i}\", type=\"bus\", route=route_id, depart=\"0\")\n",
    "    \n",
    "    tree = ET.ElementTree(root)\n",
    "    tree.write(output_file)\n",
    "\n",
    "# Write the valid routes to an XML file\n",
    "write_routes_xml(valid_routes)\n",
    "print(\"Routes saved to valid_routes.rou.xml\")\n"
   ]
  }
 ],
 "metadata": {
  "kernelspec": {
   "display_name": "base",
   "language": "python",
   "name": "python3"
  },
  "language_info": {
   "codemirror_mode": {
    "name": "ipython",
    "version": 3
   },
   "file_extension": ".py",
   "mimetype": "text/x-python",
   "name": "python",
   "nbconvert_exporter": "python",
   "pygments_lexer": "ipython3",
   "version": "3.12.4"
  }
 },
 "nbformat": 4,
 "nbformat_minor": 2
}
