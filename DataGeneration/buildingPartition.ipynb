{
 "cells": [
  {
   "cell_type": "code",
   "execution_count": 4,
   "metadata": {},
   "outputs": [],
   "source": [
    "import xml.etree.ElementTree as ET\n",
    "\n",
    "# List of names for bus stops\n",
    "bus_stop_names = [\"Bengal Chemical\", \"Bidhannagar road\", \"Central Park\",\"Karunamoyee\",\"City Centre\",\"Saltlake Sector 5\",\"stadium\",\"Tank No 4\"]  \n",
    "# Dictionary to track the count of polygons for each bus stop\n",
    "bus_stop_count = {name: 0 for name in bus_stop_names}\n",
    "\n",
    "# Parsing the input XML file\n",
    "def create_individual_xml(input_file):\n",
    "    tree = ET.parse(input_file)\n",
    "    root = tree.getroot()\n",
    "\n",
    "    # Iterating over all 'poly' elements to identify bus stop polygons\n",
    "    for poly in root.findall(\"poly\"):\n",
    "        name = poly.attrib.get(\"name\", \"\")\n",
    "\n",
    "        # Checking if the type is \"building.yes\" and name matches one of the bus stop names\n",
    "        for region in bus_stop_names:\n",
    "            if poly.attrib.get(\"type\") == \"building.yes\" and name == region:\n",
    "                \n",
    "                # Incrementing the count for the specific bus stop\n",
    "                bus_stop_count[region] += 1\n",
    "\n",
    "                # Creating a new XML structure for each bus stop\n",
    "                bus_stop_root = ET.Element(\"root\")  \n",
    "                bus_stop_root.append(poly)  \n",
    "\n",
    "                # Creating an ElementTree from the new root and write it to a file\n",
    "                bus_stop_tree = ET.ElementTree(bus_stop_root)\n",
    "                bus_stop_filename = f\"{region}.xml\"  # Creating filename using custom name\n",
    "\n",
    "                # Writing to the XML file\n",
    "                with open(bus_stop_filename, \"ab\") as xml_file:\n",
    "                    bus_stop_tree.write(xml_file)\n",
    "\n",
    "# Input XML file path\n",
    "input_file = \"voronoiPolygonRegion.xml\" \n",
    "\n",
    "# Calling the function to generate individual XML files\n",
    "create_individual_xml(input_file)\n"
   ]
  },
  {
   "cell_type": "code",
   "execution_count": null,
   "metadata": {},
   "outputs": [],
   "source": [
    "import csv\n",
    "\n",
    "# Output CSV file path\n",
    "csv_file = \"BusStopStatistics.csv\"\n",
    "\n",
    "# Writing data to CSV\n",
    "def write_bus_stop_statistics_to_csv(bus_stop_count, csv_file):\n",
    "    with open(csv_file, mode=\"w\", newline=\"\") as file:\n",
    "        writer = csv.writer(file)\n",
    "\n",
    "        # Writing the header\n",
    "        writer.writerow([\"Bus_Stop Name\", \"Number of Buildings\", \"Estimated Number of People\"])\n",
    "\n",
    "        # Writing the data for each bus stop based on the count of buildings\n",
    "        for bus_stop, count in bus_stop_count.items():\n",
    "            estimated_people = count * 240  # Estimated people = Number of Buildings * 240\n",
    "            writer.writerow([bus_stop, count, estimated_people])\n",
    "\n",
    "# Calling the function to write to the CSV file\n",
    "write_bus_stop_statistics_to_csv(bus_stop_count, csv_file)\n",
    "\n",
    "print(f\"Bus stop statistics have been written to {csv_file}\")\n"
   ]
  }
 ],
 "metadata": {
  "kernelspec": {
   "display_name": "Python 3",
   "language": "python",
   "name": "python3"
  },
  "language_info": {
   "codemirror_mode": {
    "name": "ipython",
    "version": 3
   },
   "file_extension": ".py",
   "mimetype": "text/x-python",
   "name": "python",
   "nbconvert_exporter": "python",
   "pygments_lexer": "ipython3",
   "version": "3.12.4"
  }
 },
 "nbformat": 4,
 "nbformat_minor": 2
}
